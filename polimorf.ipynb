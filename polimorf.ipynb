{
 "cells": [
  {
   "cell_type": "code",
   "execution_count": null,
   "id": "80837867",
   "metadata": {},
   "outputs": [],
   "source": [
    "class Matrix4:\n",
    "    def __init__(self, row1, row2, row3, row4):\n",
    "        self.rows = (row1, row2, row3, row4)\n",
    "\n",
    "    def determinant2(a11, a12, a21, a22):\n",
    "        return a11*a22 - a12*a21\n",
    "\n",
    "    def minor2(self, row_ind_1, row_ind_2):\n",
    "        for i in range(0, 3):\n",
    "            for j in range(0, 3):\n",
    "                \n",
    "\n"
   ]
  }
 ],
 "metadata": {
  "language_info": {
   "name": "python"
  }
 },
 "nbformat": 4,
 "nbformat_minor": 5
}
